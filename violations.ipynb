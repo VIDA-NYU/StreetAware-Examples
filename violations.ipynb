{
 "cells": [
  {
   "cell_type": "code",
   "execution_count": 16,
   "id": "c96dd4b4",
   "metadata": {},
   "outputs": [],
   "source": [
    "import itertools\n",
    "from constants import *\n",
    "from utils import *"
   ]
  },
  {
   "cell_type": "code",
   "execution_count": 44,
   "id": "2875fe74",
   "metadata": {},
   "outputs": [],
   "source": [
    "import cv2\n",
    "\n",
    "reader = cv2.VideoCapture('./StreetAware Dataset/chase_1/sensor_2/right.mp4')"
   ]
  },
  {
   "cell_type": "code",
   "execution_count": 45,
   "id": "60c31013",
   "metadata": {},
   "outputs": [],
   "source": [
    "reader.set(1, 18000)\n",
    "ret, frame = reader.read()"
   ]
  },
  {
   "cell_type": "code",
   "execution_count": 47,
   "id": "c1ff7294",
   "metadata": {},
   "outputs": [
    {
     "data": {
      "text/plain": [
       "True"
      ]
     },
     "execution_count": 47,
     "metadata": {},
     "output_type": "execute_result"
    }
   ],
   "source": [
    "cv2.imwrite('./StreetAware Dataset/chase_1/sensor_2/right_frame.jpg', frame)"
   ]
  },
  {
   "cell_type": "code",
   "execution_count": 48,
   "id": "1144df49",
   "metadata": {},
   "outputs": [],
   "source": [
    "trackedPoses = load_json('./StreetAware Dataset/park_3/park_3_trackedspeed.json')\n",
    "trafficLight = load_json('./StreetAware Dataset/park_3/park_3_traffic_light.json')\n",
    "zebra = load_json('./StreetAware Dataset/park_3/zebra.json')"
   ]
  },
  {
   "cell_type": "code",
   "execution_count": 20,
   "id": "63ccdda3",
   "metadata": {},
   "outputs": [],
   "source": [
    "merged = list(itertools.chain.from_iterable(zebra.values()))"
   ]
  },
  {
   "cell_type": "code",
   "execution_count": 24,
   "id": "8447f506",
   "metadata": {},
   "outputs": [
    {
     "data": {
      "text/plain": [
       "[[[-5.623476272318483, -1.8316994799261113, 0.10437881425578965],\n",
       "  [-5.55915877255703, 0.31985679611962603, 0.08019027589225991],\n",
       "  [-5.260843345710075, 0.2945341485240538, 0.07767353949431434],\n",
       "  [-5.307321247187578, -1.8617686203232064, 0.08091222748894128]],\n",
       " [[-4.6350450977966755, -1.8883725386045822, 0.10209011503590809],\n",
       "  [-4.628831798722614, 3.1843997373434454, 0.21345437356888808],\n",
       "  [-4.364857481041586, 3.17026678554145, 0.20854187130107288],\n",
       "  [-4.34519488354428, -1.8779120852328888, 0.0876484410564835]],\n",
       " [[-3.7261391025051127, -1.9565021120902342, 0.09621691707728952],\n",
       "  [-3.7718450842279108, 3.0056882796622677, 0.21118272563900925],\n",
       "  [-3.4945396777460065, 2.9566924407751904, 0.19878991192570084],\n",
       "  [-3.4153771921698697, -1.9775172314405465, 0.07886394087311688]],\n",
       " [[-2.913368433332377, -2.047163785845877, 0.09214962416689615],\n",
       "  [-2.9689665644410628, 2.708852607620785, 0.16716251696050508],\n",
       "  [-2.6514751182108323, 2.6869094092490027, 0.15994278413175445],\n",
       "  [-2.6019179632425997, -2.0634256560774746, 0.07936290106657845]],\n",
       " [[-2.009525376835456, -2.1350688678890304, 0.0872723697179032],\n",
       "  [-2.066762313700255, 2.6022172917292283, 0.1581389178337333],\n",
       "  [-1.7683331850698836, 2.584250003520868, 0.1517360580558045],\n",
       "  [-1.6910739670198676, -2.1620072591955313, 0.07909909659893594]],\n",
       " [[-1.1196371364839788, -2.2437958136021563, 0.06906138168034087],\n",
       "  [-1.1665064718537783, 2.527174405077222, 0.14658158545270009],\n",
       "  [-0.8673175711065532, 2.516469844890006, 0.14507149453816034],\n",
       "  [-0.8087158811025108, -2.2575238277638023, 0.026851055501613708]],\n",
       " [[-0.25800300939583376, -2.490030302298766, 0.007728750678562546],\n",
       "  [-0.28544975089380464, 2.497027899682895, 0.12285761284283811],\n",
       "  [0.02258475353989361, 2.450806558697944, 0.1226301557691275],\n",
       "  [0.04876465312441681, -2.4999804976664524, 0.01151247880258871]],\n",
       " [[0.6045118351535835, -2.5890730739343755, -0.04260166947492339],\n",
       "  [0.6110912145311411, 2.393229319170124, 0.08766603032224965],\n",
       "  [0.9291023406109545, 2.3602471512023886, 0.08110283766383192],\n",
       "  [0.8910590995178498, -2.5901528482165306, -0.04772548532622334]],\n",
       " [[1.5721127172190439, -2.700226031041533, -0.08498886393780145],\n",
       "  [1.4894279351767374, 2.2696830949204445, 0.042674932121570475],\n",
       "  [1.8152400488256017, 2.240227089794014, 0.034922661876195915],\n",
       "  [1.798497341740091, -2.690456532031544, -0.07409189182482373]],\n",
       " [[2.469987667258687, -2.6686797001135734, -0.10862975200668329],\n",
       "  [2.4098163738690537, 2.1161767952124113, -0.021924003275509918],\n",
       "  [2.7845482930648306, 2.1033615370618612, -0.03031799865911694],\n",
       "  [2.7754890808454658, -2.6978252121164683, -0.09543715836674492]]]"
      ]
     },
     "execution_count": 24,
     "metadata": {},
     "output_type": "execute_result"
    }
   ],
   "source": [
    "merged"
   ]
  },
  {
   "cell_type": "code",
   "execution_count": 3,
   "id": "7e03549a",
   "metadata": {},
   "outputs": [],
   "source": [
    "totalFrames = len(trafficLight)"
   ]
  },
  {
   "cell_type": "code",
   "execution_count": null,
   "id": "c9dc527e",
   "metadata": {},
   "outputs": [],
   "source": [
    "def get_zebra_box(zebra):\n",
    "    pass"
   ]
  },
  {
   "cell_type": "code",
   "execution_count": 39,
   "id": "94757ba3",
   "metadata": {},
   "outputs": [],
   "source": [
    "def is_on_zebra(point, zebraBox):\n",
    "    pointX = point[0]\n",
    "    pointY = point[1]\n",
    "    if pointX > zebraBox[0] and pointX < zebraBox[2]\\\n",
    "    and pointY > zebraBox[1] and pointY < zebraBox[3]:\n",
    "        return True\n",
    "    \n",
    "    return False"
   ]
  },
  {
   "cell_type": "code",
   "execution_count": 50,
   "id": "b7ea876a",
   "metadata": {},
   "outputs": [],
   "source": [
    "# zebraBox = get_zebra_box(zebra)\n",
    "zebraBox = (-5.623476272318483, -2.6978252121164683, 2.7754890808454658, 3.1843997373434454)\n",
    "jaywalkers = set()\n",
    "for fno, frame in enumerate(trackedPoses):\n",
    "    for pose in frame:\n",
    "        position = center_of_mass(pose)\n",
    "        \n",
    "        if is_on_zebra(position, zebraBox)\\\n",
    "        and trafficLight[fno] == 'stop' and\\\n",
    "        pose['speed'] is not None and\\\n",
    "        pose['speed'] > 0.01:\n",
    "            jaywalkers.add(pose['trackID'])"
   ]
  },
  {
   "cell_type": "code",
   "execution_count": 52,
   "id": "09a018d6",
   "metadata": {},
   "outputs": [
    {
     "data": {
      "text/plain": [
       "41"
      ]
     },
     "execution_count": 52,
     "metadata": {},
     "output_type": "execute_result"
    }
   ],
   "source": [
    "trackIDs = trackID_counter(trackedPoses)\n",
    "len(trackIDs)"
   ]
  },
  {
   "cell_type": "code",
   "execution_count": 51,
   "id": "a31166c7",
   "metadata": {},
   "outputs": [
    {
     "data": {
      "text/plain": [
       "15"
      ]
     },
     "execution_count": 51,
     "metadata": {},
     "output_type": "execute_result"
    }
   ],
   "source": [
    "len(jaywalkers)"
   ]
  }
 ],
 "metadata": {
  "kernelspec": {
   "display_name": "Python 3 (ipykernel)",
   "language": "python",
   "name": "python3"
  },
  "language_info": {
   "codemirror_mode": {
    "name": "ipython",
    "version": 3
   },
   "file_extension": ".py",
   "mimetype": "text/x-python",
   "name": "python",
   "nbconvert_exporter": "python",
   "pygments_lexer": "ipython3",
   "version": "3.9.0"
  }
 },
 "nbformat": 4,
 "nbformat_minor": 5
}
